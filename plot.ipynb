{
 "cells": [
  {
   "cell_type": "code",
   "execution_count": 1,
   "metadata": {},
   "outputs": [],
   "source": [
    "import numpy as np\n",
    "import h5py\n",
    "import matplotlib as mpl\n",
    "import matplotlib.pyplot as plt"
   ]
  },
  {
   "cell_type": "code",
   "execution_count": 2,
   "metadata": {},
   "outputs": [],
   "source": [
    "def plot_heatmap(Pq2_path, U):\n",
    "    file = h5py.File(Pq2_path)\n",
    "    data = np.array(file[\"Pmn2_avg\"])\n",
    "    U_index = list(file[\"U\"]).index(U)\n",
    "\n",
    "    plt.imshow(np.transpose(np.log10(abs(data[U_index,::-1,::-1]))), vmin=-5, vmax=0, origin='lower')\n",
    "    plt.colorbar()\n",
    "    plt.xlabel(\"$N_{A\\\\downarrow}$\")\n",
    "    plt.ylabel(\"$N_{A\\\\uparrow}$\")\n",
    "    plt.title(\"$U={}$\".format(U))\n",
    "    plt.show()"
   ]
  },
  {
   "cell_type": "code",
   "execution_count": 3,
   "metadata": {},
   "outputs": [],
   "source": [
    "def plot_distribution(Pq2_path, U):\n",
    "    file = h5py.File(Pq2_path)\n",
    "    avg_n = np.array(file[\"Pn2_avg\"])\n",
    "    avg_m = np.array(file[\"Pm2_avg\"])\n",
    "    err_n = np.array(file[\"Pn2_err\"])\n",
    "    err_m = np.array(file[\"Pm2_err\"])\n",
    "    U_index = list(file[\"U\"]).index(U)\n",
    "\n",
    "    n_list = range(len(avg_n[U_index, :]))\n",
    "    m_list = range(-int((len(avg_m[U_index, :])-1)/2), int((len(avg_m[U_index, :])-1)/2 + 1))\n",
    "\n",
    "    plt.errorbar(n_list, np.flip(avg_n[U_index, :]), yerr=err_n[U_index, :], label=\"$P_{n,2}$\")\n",
    "    plt.errorbar(m_list, avg_m[U_index, :], yerr=err_m[U_index, :], label=\"$P_{m,2}$\")\n",
    "    plt.ylim(top=1.0,bottom=0.0)\n",
    "    plt.xlabel(\"$q_A$\")\n",
    "    plt.ylabel(\"P\")\n",
    "    plt.legend()\n",
    "    plt.title(\"$U={}$\".format(U))\n",
    "    plt.show()"
   ]
  },
  {
   "cell_type": "code",
   "execution_count": 4,
   "metadata": {},
   "outputs": [],
   "source": [
    "def plot_shannon(Hq2_path):\n",
    "    file = h5py.File(Hq2_path)\n",
    "    avg_n = np.array(file[\"Hn2_avg\"])\n",
    "    avg_m = np.array(file[\"Hm2_avg\"])\n",
    "    err_n = np.array(file[\"Hn2_err\"])\n",
    "    err_m = np.array(file[\"Hm2_err\"])\n",
    "    absU_list = abs(np.array(file[\"U\"]))\n",
    "\n",
    "    plt.errorbar(absU_list, avg_n, yerr=err_n, label=\"$H_{n,1/2}$\")\n",
    "    plt.errorbar(absU_list, avg_m, yerr=err_m, label=\"$H_{m,1/2}$\")\n",
    "    plt.xlim(left=0.0, right=max(absU_list))\n",
    "    plt.xlabel(\"$|U|$\")\n",
    "    plt.ylabel(\"$H_{q,1/2}$\")\n",
    "    plt.legend()\n",
    "    plt.title(\"Shannon Entropy\")\n",
    "    plt.show()"
   ]
  },
  {
   "cell_type": "code",
   "execution_count": 5,
   "metadata": {},
   "outputs": [],
   "source": [
    "def plot_etgent(EtgEnt_path, Hq2_path):\n",
    "    file_etgent = h5py.File(EtgEnt_path)\n",
    "    file_hq2 = h5py.File(Hq2_path)\n",
    "    U_list = np.array(file_etgent[\"U\"])\n",
    "\n",
    "    avg_etgent = np.array(file_etgent[\"S2_avg\"])\n",
    "    err_etgent = np.array(file_etgent[\"S2_err\"])\n",
    "\n",
    "    avg_hn2 = np.array(file_hq2[\"Hn2_avg\"])\n",
    "    avg_hm2 = np.array(file_hq2[\"Hm2_avg\"])\n",
    "    err_hn2 = np.array(file_hq2[\"Hn2_err\"])\n",
    "    err_hm2 = np.array(file_hq2[\"Hm2_err\"])\n",
    "\n",
    "    plt.errorbar(U_list, avg_etgent, yerr=err_etgent, label=\"$S_2$\", linestyle='dashed', linewidth=2.0)\n",
    "    plt.errorbar(U_list, avg_hn2, yerr=err_hn2, label=\"$H_{n, 1/2}$\", linestyle='dotted', linewidth=3.0)\n",
    "    plt.errorbar(U_list, avg_hm2, yerr=err_hm2, label=\"$H_{m, 1/2}$\", linestyle='dotted', linewidth=3.0)\n",
    "    plt.errorbar(U_list, avg_etgent-avg_hn2, yerr=np.sqrt(err_etgent**2 + err_hn2**2), label=\"$S_{n,2}^\\\\text{acc}$\")\n",
    "    plt.errorbar(U_list, avg_etgent-avg_hm2, yerr=np.sqrt(err_etgent**2 + err_hm2**2), label=\"$S_{m,2}^\\\\text{acc}$\")\n",
    "    plt.xlim(left=min(U_list), right=max(U_list))\n",
    "    plt.xlabel(\"$|U|$\")\n",
    "    plt.ylabel(\"Entropy\")\n",
    "    plt.legend()\n",
    "    plt.title(\"Entanglement Entropies for the Attractive Hubbard Model\")\n",
    "    # plt.show()\n",
    "    # plt.savefig(\"attractive.svg\", format=\"svg\")"
   ]
  },
  {
   "cell_type": "code",
   "execution_count": 8,
   "metadata": {},
   "outputs": [],
   "source": [
    "def etgent_convergence1(EtgEnt_path_list):\n",
    "    data_list = []\n",
    "    for path in EtgEnt_path_list:\n",
    "        file = h5py.File(path)\n",
    "        data = np.array(file[\"detgA\"])\n",
    "        data_list.append(data)\n",
    "    data_list = np.array(data_list)\n",
    "\n",
    "    running_avg = np.cumsum(data_list, axis=1) / (np.arange(data_list.shape[1]) + 1)\n",
    "    s2 = -np.log(np.prod(running_avg, axis=0))\n",
    "    \n",
    "    plt.plot(s2)\n",
    "    plt.xlabel(\"Sweep\")\n",
    "    plt.ylabel(\"$S_2$\")\n",
    "    print(s2[-1])"
   ]
  },
  {
   "cell_type": "code",
   "execution_count": 9,
   "metadata": {},
   "outputs": [],
   "source": [
    "def etgent_convergence2(EtgEnt_path_list1, EtgEnt_path_list2):\n",
    "    data_list = []\n",
    "    for i in range(len(EtgEnt_path_list1)):\n",
    "        file1 = h5py.File(EtgEnt_path_list1[i])\n",
    "        file2 = h5py.File(EtgEnt_path_list2[i])\n",
    "        data = np.append(np.array(file1[\"detgA\"]), np.array(file2[\"detgA\"]))\n",
    "        data_list.append(data)\n",
    "    data_list = np.array(data_list)\n",
    "\n",
    "    running_avg = np.cumsum(data_list, axis=1) / (np.arange(data_list.shape[1]) + 1)\n",
    "    s2 = -np.log(np.prod(running_avg, axis=0))\n",
    "    \n",
    "    plt.plot(s2)\n",
    "    plt.xlabel(\"Sweep\")\n",
    "    plt.ylabel(\"$S_2$\")\n",
    "    print(s2[-1])"
   ]
  },
  {
   "cell_type": "code",
   "execution_count": 14,
   "metadata": {},
   "outputs": [
    {
     "name": "stdout",
     "output_type": "stream",
     "text": [
      "1.3542003549236803\n"
     ]
    },
    {
     "data": {
      "image/png": "[encoded data removed]",
      "text/plain": [
       "<Figure size 432x288 with 1 Axes>"
      ]
     },
     "metadata": {
      "needs_background": "light"
     },
     "output_type": "display_data"
    }
   ],
   "source": [
    "path_list1 = [\"./data/1x10/EtgEnt_LA8_N10_U2.0_lambda{:.1f}_beta50.0_seed1234.jld\".format(x) for x in [0.0, 0.2, 0.4, 0.6, 0.8]]\n",
    "path_list2 = [\"./data/1x10/EtgEnt_LA8_N10_U2.0_lambda{:.1f}_beta50.0_seed1235.jld\".format(x) for x in [0.0, 0.2, 0.4, 0.6, 0.8]]\n",
    "\n",
    "etgent_convergence2(path_list1, path_list2)\n"
   ]
  }
 ],
 "metadata": {
  "kernelspec": {
   "display_name": "Python 3",
   "language": "python",
   "name": "python3"
  },
  "language_info": {
   "codemirror_mode": {
    "name": "ipython",
    "version": 3
   },
   "file_extension": ".py",
   "mimetype": "text/x-python",
   "name": "python",
   "nbconvert_exporter": "python",
   "pygments_lexer": "ipython3",
   "version": "3.9.12"
  }
 },
 "nbformat": 4,
 "nbformat_minor": 2
}
