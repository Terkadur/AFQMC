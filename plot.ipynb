{
 "cells": [
  {
   "cell_type": "code",
   "execution_count": 22,
   "metadata": {},
   "outputs": [],
   "source": [
    "import numpy as np\n",
    "import h5py\n",
    "import matplotlib as mpl\n",
    "import matplotlib.pyplot as plt"
   ]
  },
  {
   "cell_type": "code",
   "execution_count": 23,
   "metadata": {},
   "outputs": [],
   "source": [
    "def plot_heatmap(Pq2_path, U):\n",
    "    file = h5py.File(Pq2_path)\n",
    "    data = np.array(file[\"Pmn2_avg\"])\n",
    "    U_index = list(file[\"U\"]).index(U)\n",
    "\n",
    "    plt.imshow(np.transpose(np.log10(abs(data[U_index,::-1,::-1]))), vmin=-5, vmax=0, origin='lower')\n",
    "    plt.colorbar()\n",
    "    plt.xlabel(\"$N_{A\\\\downarrow}$\")\n",
    "    plt.ylabel(\"$N_{A\\\\uparrow}$\")\n",
    "    plt.title(\"$U={}$\".format(U))"
   ]
  },
  {
   "cell_type": "code",
   "execution_count": 24,
   "metadata": {},
   "outputs": [],
   "source": [
    "def plot_distribution(Pq2_path, U):\n",
    "    file = h5py.File(Pq2_path)\n",
    "    avg_n = np.array(file[\"Pn2_avg\"])\n",
    "    avg_m = np.array(file[\"Pm2_avg\"])\n",
    "    err_n = np.array(file[\"Pn2_err\"])\n",
    "    err_m = np.array(file[\"Pm2_err\"])\n",
    "    U_index = list(file[\"U\"]).index(U)\n",
    "\n",
    "    n_list = range(len(avg_n[U_index, :]))\n",
    "    m_list = range(-int((len(avg_m[U_index, :])-1)/2), int((len(avg_m[U_index, :])-1)/2 + 1))\n",
    "\n",
    "    plt.errorbar(n_list, np.flip(avg_n[U_index, :]), yerr=err_n[U_index, :], label=\"$P_{n,2}$\")\n",
    "    plt.errorbar(m_list, avg_m[U_index, :], yerr=err_m[U_index, :], label=\"$P_{m,2}$\")\n",
    "    plt.ylim(top=1.0,bottom=0.0)\n",
    "    plt.xlabel(\"$q_A$\")\n",
    "    plt.ylabel(\"P\")\n",
    "    plt.legend()\n",
    "    plt.title(\"$U={}$\".format(U))"
   ]
  },
  {
   "cell_type": "code",
   "execution_count": 25,
   "metadata": {},
   "outputs": [],
   "source": [
    "def plot_shannon(Hq2_path):\n",
    "    file = h5py.File(Hq2_path)\n",
    "    avg_n = np.array(file[\"Hn2_avg\"])\n",
    "    avg_m = np.array(file[\"Hm2_avg\"])\n",
    "    err_n = np.array(file[\"Hn2_err\"])\n",
    "    err_m = np.array(file[\"Hm2_err\"])\n",
    "    U_list = np.array(file[\"U\"])\n",
    "\n",
    "    plt.errorbar(U_list, avg_n, yerr=err_n, label=\"$H_{n,1/2}$\")\n",
    "    plt.errorbar(U_list, avg_m, yerr=err_m, label=\"$H_{m,1/2}$\")\n",
    "    plt.xlim(left=0.0, right=max(U_list))\n",
    "    plt.xlabel(\"$U$\")\n",
    "    plt.ylabel(\"$H_{q,1/2}$\")\n",
    "    plt.legend()\n",
    "    plt.title(\"Shannon Entropy\")"
   ]
  },
  {
   "cell_type": "code",
   "execution_count": 26,
   "metadata": {},
   "outputs": [],
   "source": [
    "def plot_etgent(EtgEnt_path):\n",
    "    file = h5py.File(EtgEnt_path)\n",
    "    U_list = np.array(file[\"U\"])\n",
    "\n",
    "    avg_etgent = np.array(file[\"S2_avg\"])\n",
    "    err_etgent = np.array(file[\"S2_err\"])\n",
    "\n",
    "    plt.errorbar(U_list, avg_etgent, yerr=err_etgent, label=\"$S_2$\", linestyle='dashed', linewidth=2.0)\n",
    "    plt.xlim(left=min(U_list), right=max(U_list))\n",
    "    plt.xlabel(\"$U$\")\n",
    "    plt.ylabel(\"Entropy\")\n",
    "    plt.legend()"
   ]
  },
  {
   "cell_type": "code",
   "execution_count": 27,
   "metadata": {},
   "outputs": [],
   "source": [
    "def plot_acc_etgent(EtgEnt_path, Hq2_path):\n",
    "    file_etgent = h5py.File(EtgEnt_path)\n",
    "    file_hq2 = h5py.File(Hq2_path)\n",
    "    U_list = np.array(file_etgent[\"U\"])\n",
    "\n",
    "    avg_etgent = np.array(file_etgent[\"S2_avg\"])\n",
    "    err_etgent = np.array(file_etgent[\"S2_err\"])\n",
    "\n",
    "    avg_hn2 = np.array(file_hq2[\"Hn2_avg\"])\n",
    "    avg_hm2 = np.array(file_hq2[\"Hm2_avg\"])\n",
    "    err_hn2 = np.array(file_hq2[\"Hn2_err\"])\n",
    "    err_hm2 = np.array(file_hq2[\"Hm2_err\"])\n",
    "\n",
    "    plt.errorbar(U_list, avg_etgent-avg_hn2, yerr=np.sqrt(err_etgent**2 + err_hn2**2), label=\"$S_{n,2}^\\\\text{acc}$\")\n",
    "    plt.errorbar(U_list, avg_etgent-avg_hm2, yerr=np.sqrt(err_etgent**2 + err_hm2**2), label=\"$S_{m,2}^\\\\text{acc}$\")\n",
    "    plt.xlim(left=min(U_list), right=max(U_list))\n",
    "    plt.xlabel(\"$U$\")\n",
    "    plt.ylabel(\"Entropy\")\n",
    "    plt.legend()\n",
    "    plt.title(\"Entanglement Entropies for the Attractive Hubbard Model\")"
   ]
  },
  {
   "cell_type": "code",
   "execution_count": 28,
   "metadata": {},
   "outputs": [],
   "source": [
    "def plot_conv(EtgEnt_path, U):\n",
    "    file = h5py.File(EtgEnt_path)\n",
    "    U_index = list(file[\"U\"]).index(U)\n",
    "\n",
    "    ref = file[\"S2_conv\"][U_index]\n",
    "    conv_etgent = np.array(file[ref])\n",
    "    avg_etgent = np.array(file[\"S2_avg\"])[U_index]\n",
    "\n",
    "    plt.plot(conv_etgent, label=\"$S_2$\")\n",
    "    plt.axhline(y = avg_etgent, color = \"r\", linestyle = \"dashed\", label=\"avg ≈ {:.3f}\".format(avg_etgent))\n",
    "    plt.xlabel(\"Sweeps\")\n",
    "    plt.ylabel(\"Entropy\")\n",
    "    plt.legend()\n",
    "    plt.title(\"$U={}$\".format(U))"
   ]
  },
  {
   "cell_type": "code",
   "execution_count": 14,
   "metadata": {},
   "outputs": [
    {
     "data": {
      "image/png": "[encoded data removed]",
      "text/plain": [
       "<Figure size 432x288 with 1 Axes>"
      ]
     },
     "metadata": {
      "needs_background": "light"
     },
     "output_type": "display_data"
    }
   ],
   "source": [
    "plot_conv(\"./data/2x2/processed/EtgEnt_LA2_N4_beta50.0.jld\", 2.0)"
   ]
  }
 ],
 "metadata": {
  "kernelspec": {
   "display_name": "Python 3",
   "language": "python",
   "name": "python3"
  },
  "language_info": {
   "codemirror_mode": {
    "name": "ipython",
    "version": 3
   },
   "file_extension": ".py",
   "mimetype": "text/x-python",
   "name": "python",
   "nbconvert_exporter": "python",
   "pygments_lexer": "ipython3",
   "version": "3.9.12"
  }
 },
 "nbformat": 4,
 "nbformat_minor": 2
}
